{
 "cells": [
  {
   "cell_type": "code",
   "execution_count": 1,
   "metadata": {},
   "outputs": [],
   "source": [
    "import numpy as np\n",
    "import pandas as pd\n",
    "import matplotlib.pyplot as plt\n",
    "\n",
    "from selenium import webdriver\n",
    "from selenium.common.exceptions import NoSuchElementException\n",
    "import time\n",
    "from bs4 import BeautifulSoup\n",
    "import requests\n",
    "import os\n",
    "import pandas as pd\n",
    "from selenium.webdriver.common.keys import Keys\n",
    "import wget\n",
    "from tqdm import tqdm_notebook\n",
    "from selenium.webdriver.common.desired_capabilities import DesiredCapabilities"
   ]
  },
  {
   "cell_type": "code",
   "execution_count": 2,
   "metadata": {},
   "outputs": [],
   "source": [
    "data_old = pd.read_csv('C:/Users/mdyakova/venv/lncRNA/lncrna/lncbase_data.tar/lncbase_data/lncbase_data/LncBasev2_download.csv', sep='\\t')"
   ]
  },
  {
   "cell_type": "code",
   "execution_count": 3,
   "metadata": {},
   "outputs": [],
   "source": [
    "data_old = data_old[(data_old['species']=='Homo sapiens') | (data_old['species']=='Homo Sapiens')]"
   ]
  },
  {
   "cell_type": "code",
   "execution_count": 4,
   "metadata": {},
   "outputs": [
    {
     "data": {
      "text/html": [
       "<div>\n",
       "<style scoped>\n",
       "    .dataframe tbody tr th:only-of-type {\n",
       "        vertical-align: middle;\n",
       "    }\n",
       "\n",
       "    .dataframe tbody tr th {\n",
       "        vertical-align: top;\n",
       "    }\n",
       "\n",
       "    .dataframe thead th {\n",
       "        text-align: right;\n",
       "    }\n",
       "</style>\n",
       "<table border=\"1\" class=\"dataframe\">\n",
       "  <thead>\n",
       "    <tr style=\"text-align: right;\">\n",
       "      <th></th>\n",
       "      <th>geneId</th>\n",
       "      <th>geneName</th>\n",
       "      <th>mirna</th>\n",
       "      <th>species</th>\n",
       "      <th>cell_line</th>\n",
       "      <th>tissue</th>\n",
       "      <th>category</th>\n",
       "      <th>method</th>\n",
       "      <th>positive_negative</th>\n",
       "      <th>direct_indirect</th>\n",
       "      <th>condition</th>\n",
       "    </tr>\n",
       "  </thead>\n",
       "  <tbody>\n",
       "    <tr>\n",
       "      <th>0</th>\n",
       "      <td>ENSG00000002079</td>\n",
       "      <td>MYH16</td>\n",
       "      <td>hsa-miR-4786-3p</td>\n",
       "      <td>Homo sapiens</td>\n",
       "      <td>293S</td>\n",
       "      <td>Kidney</td>\n",
       "      <td>Embryonic/Fetal</td>\n",
       "      <td>HITS-CLIP</td>\n",
       "      <td>POSITIVE</td>\n",
       "      <td>DIRECT</td>\n",
       "      <td>treatment: emetine</td>\n",
       "    </tr>\n",
       "    <tr>\n",
       "      <th>1</th>\n",
       "      <td>ENSG00000067601</td>\n",
       "      <td>PMS2P4</td>\n",
       "      <td>hsa-miR-24-3p</td>\n",
       "      <td>Homo sapiens</td>\n",
       "      <td>NaN</td>\n",
       "      <td>Brain</td>\n",
       "      <td>Normal/Primary</td>\n",
       "      <td>HITS-CLIP</td>\n",
       "      <td>POSITIVE</td>\n",
       "      <td>DIRECT</td>\n",
       "      <td>NaN</td>\n",
       "    </tr>\n",
       "    <tr>\n",
       "      <th>2</th>\n",
       "      <td>ENSG00000073905</td>\n",
       "      <td>VDAC1P1</td>\n",
       "      <td>hsa-miR-1179</td>\n",
       "      <td>Homo sapiens</td>\n",
       "      <td>293S</td>\n",
       "      <td>Kidney</td>\n",
       "      <td>Embryonic/Fetal</td>\n",
       "      <td>HITS-CLIP</td>\n",
       "      <td>POSITIVE</td>\n",
       "      <td>DIRECT</td>\n",
       "      <td>no treatment (control)</td>\n",
       "    </tr>\n",
       "    <tr>\n",
       "      <th>3</th>\n",
       "      <td>ENSG00000073905</td>\n",
       "      <td>VDAC1P1</td>\n",
       "      <td>hsa-miR-139-5p</td>\n",
       "      <td>Homo sapiens</td>\n",
       "      <td>NaN</td>\n",
       "      <td>Brain</td>\n",
       "      <td>Normal/Primary</td>\n",
       "      <td>HITS-CLIP</td>\n",
       "      <td>POSITIVE</td>\n",
       "      <td>DIRECT</td>\n",
       "      <td>NaN</td>\n",
       "    </tr>\n",
       "    <tr>\n",
       "      <th>4</th>\n",
       "      <td>ENSG00000073905</td>\n",
       "      <td>VDAC1P1</td>\n",
       "      <td>hsa-miR-27a-3p</td>\n",
       "      <td>Homo sapiens</td>\n",
       "      <td>NaN</td>\n",
       "      <td>Brain</td>\n",
       "      <td>Normal/Primary</td>\n",
       "      <td>HITS-CLIP</td>\n",
       "      <td>POSITIVE</td>\n",
       "      <td>DIRECT</td>\n",
       "      <td>NaN</td>\n",
       "    </tr>\n",
       "  </tbody>\n",
       "</table>\n",
       "</div>"
      ],
      "text/plain": [
       "            geneId geneName            mirna       species cell_line  tissue  \\\n",
       "0  ENSG00000002079    MYH16  hsa-miR-4786-3p  Homo sapiens      293S  Kidney   \n",
       "1  ENSG00000067601   PMS2P4    hsa-miR-24-3p  Homo sapiens       NaN   Brain   \n",
       "2  ENSG00000073905  VDAC1P1     hsa-miR-1179  Homo sapiens      293S  Kidney   \n",
       "3  ENSG00000073905  VDAC1P1   hsa-miR-139-5p  Homo sapiens       NaN   Brain   \n",
       "4  ENSG00000073905  VDAC1P1   hsa-miR-27a-3p  Homo sapiens       NaN   Brain   \n",
       "\n",
       "          category     method positive_negative direct_indirect  \\\n",
       "0  Embryonic/Fetal  HITS-CLIP          POSITIVE          DIRECT   \n",
       "1   Normal/Primary  HITS-CLIP          POSITIVE          DIRECT   \n",
       "2  Embryonic/Fetal  HITS-CLIP          POSITIVE          DIRECT   \n",
       "3   Normal/Primary  HITS-CLIP          POSITIVE          DIRECT   \n",
       "4   Normal/Primary  HITS-CLIP          POSITIVE          DIRECT   \n",
       "\n",
       "                condition  \n",
       "0      treatment: emetine  \n",
       "1                     NaN  \n",
       "2  no treatment (control)  \n",
       "3                     NaN  \n",
       "4                     NaN  "
      ]
     },
     "execution_count": 4,
     "metadata": {},
     "output_type": "execute_result"
    }
   ],
   "source": [
    "data_old.head()"
   ]
  },
  {
   "cell_type": "code",
   "execution_count": 5,
   "metadata": {},
   "outputs": [],
   "source": [
    "data = data_old.groupby(by=['geneName', 'mirna'], as_index=False).max()"
   ]
  },
  {
   "cell_type": "code",
   "execution_count": 8,
   "metadata": {},
   "outputs": [],
   "source": [
    "data_loaded = pd.read_csv('diana_data_ver2.csv', header=None, names=('mirna', 'lncrna', 'text'))"
   ]
  },
  {
   "cell_type": "code",
   "execution_count": 11,
   "metadata": {},
   "outputs": [],
   "source": [
    "data = pd.merge(data, data_loaded, left_on=['geneId', 'mirna'], right_on=['lncrna', 'mirna'], how='left')"
   ]
  },
  {
   "cell_type": "code",
   "execution_count": 14,
   "metadata": {},
   "outputs": [],
   "source": [
    "data = data[pd.isna(data['text'])]"
   ]
  },
  {
   "cell_type": "code",
   "execution_count": 15,
   "metadata": {},
   "outputs": [],
   "source": [
    "def request(mirna, lncrna):\n",
    "    string = ('http://carolina.imis.athena-innovation.gr/diana_tools/web/index.php?r=lncbasev2%2Findex-experimental&miRNAs%5B%5D=&miRNAs%5B%5D='\n",
    "                        + mirna + '&lncRNAs%5B%5D='+ lncrna + '&filters=0')\n",
    "    return string"
   ]
  },
  {
   "cell_type": "code",
   "execution_count": 16,
   "metadata": {},
   "outputs": [],
   "source": [
    "caps = DesiredCapabilities().CHROME\n",
    "caps[\"pageLoadStrategy\"] = \"none\"\n",
    "options = webdriver.ChromeOptions()\n",
    "#         options.set_headless(True) \n",
    "browser = webdriver.Chrome(executable_path='chromedriver.exe', desired_capabilities=caps, options=options)"
   ]
  },
  {
   "cell_type": "code",
   "execution_count": null,
   "metadata": {},
   "outputs": [
    {
     "name": "stderr",
     "output_type": "stream",
     "text": [
      "c:\\users\\mdyakova\\appdata\\local\\programs\\python\\python36\\lib\\site-packages\\ipykernel_launcher.py:1: TqdmDeprecationWarning: This function will be removed in tqdm==5.0.0\n",
      "Please use `tqdm.notebook.tqdm` instead of `tqdm.tqdm_notebook`\n",
      "  \"\"\"Entry point for launching an IPython kernel.\n"
     ]
    },
    {
     "data": {
      "application/vnd.jupyter.widget-view+json": {
       "model_id": "84fb3fe075114f62a1ba79af216c29e4",
       "version_major": 2,
       "version_minor": 0
      },
      "text/plain": [
       "HBox(children=(FloatProgress(value=0.0, max=54933.0), HTML(value='')))"
      ]
     },
     "metadata": {},
     "output_type": "display_data"
    }
   ],
   "source": [
    "for i in tqdm_notebook(range(0, len(data))):\n",
    "    try:\n",
    "        example = data.iloc[i]\n",
    "        mirna = example['mirna']\n",
    "        lncrna = example['geneId']\n",
    "        string = request(mirna, lncrna)\n",
    "\n",
    "        browser.get(string)\n",
    "        time.sleep(5)\n",
    "\n",
    "        results = browser.find_elements_by_class_name('button_box')[0]\n",
    "        results.click()\n",
    "\n",
    "        start_scroll = 400\n",
    "        browser.execute_script(\"window.scrollTo(0, \" + str(start_scroll) +\")\") \n",
    "\n",
    "        results2 = browser.find_elements_by_class_name('button_box')[1]\n",
    "        results2.click()\n",
    "\n",
    "        result3 = browser.find_elements_by_id('lnc_experimental_results')[0]\n",
    "\n",
    "        text = result3.text\n",
    "\n",
    "        pd.DataFrame([[mirna, lncrna, text]]).to_csv('diana_data_ver2.csv', index=None, header=None, mode='a')\n",
    "    except:\n",
    "        pass\n",
    "    \n",
    "    \n",
    "    \n",
    "    \n",
    "#     break"
   ]
  }
 ],
 "metadata": {
  "kernelspec": {
   "display_name": "Python 3",
   "language": "python",
   "name": "python3"
  },
  "language_info": {
   "codemirror_mode": {
    "name": "ipython",
    "version": 3
   },
   "file_extension": ".py",
   "mimetype": "text/x-python",
   "name": "python",
   "nbconvert_exporter": "python",
   "pygments_lexer": "ipython3",
   "version": "3.6.8"
  }
 },
 "nbformat": 4,
 "nbformat_minor": 4
}
